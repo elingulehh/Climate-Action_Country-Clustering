{
 "cells": [
  {
   "cell_type": "markdown",
   "id": "063264e5",
   "metadata": {},
   "source": [
    "# Climate Action — Country Clustering (Colab-ready)\n",
    "\n",
    "This notebook clusters countries by emissions & energy indicators to inform SDG 13 (Climate Action). It downloads Our World in Data CO₂ dataset, preprocesses features, runs KMeans clustering, visualizes with PCA, and includes optional mapping and time-series clustering cells.\n",
    "\n",
    "**How to run:** Open this notebook in Google Colab and run cells sequentially. Some optional cells install extra packages (geopandas/folium) — enable if you want maps."
   ]
  },
  {
   "cell_type": "code",
   "execution_count": null,
   "id": "9ce586f6",
   "metadata": {},
   "outputs": [],
   "source": [
    "# CELL: Imports & settings\n",
    "import pandas as pd\n",
    "import numpy as np\n",
    "import matplotlib.pyplot as plt\n",
    "from sklearn.preprocessing import StandardScaler\n",
    "from sklearn.decomposition import PCA\n",
    "from sklearn.cluster import KMeans\n",
    "from sklearn.metrics import silhouette_score\n",
    "%matplotlib inline\n",
    "plt.rcParams['figure.figsize'] = (9,6)\n",
    "print('Imports ready')"
   ]
  },
  {
   "cell_type": "code",
   "execution_count": null,
   "id": "ae8ed4a8",
   "metadata": {},
   "outputs": [],
   "source": [
    "# CELL: Download Our World in Data CO2 dataset\n",
    "url = 'https://raw.githubusercontent.com/owid/co2-data/master/owid-co2-data.csv'\n",
    "df = pd.read_csv(url)\n",
    "print('Loaded rows,cols:', df.shape)\n",
    "print('Available years:', int(df['year'].min()), 'to', int(df['year'].max()))"
   ]
  },
  {
   "cell_type": "code",
   "execution_count": null,
   "id": "c65d5021",
   "metadata": {},
   "outputs": [],
   "source": [
    "# CELL: Select year & features\n",
    "latest_year = int(df['year'].max())\n",
    "print('Using year:', latest_year)\n",
    "year = latest_year\n",
    "\n",
    "df_year = df[df['year']==year].copy()\n",
    "\n",
    "candidates = [\n",
    "    'co2', 'co2_per_capita', 'ghg_excluding_lucf_per_capita',\n",
    "    'coal_co2_per_capita', 'gas_co2_per_capita', 'oil_co2_per_capita',\n",
    "    'share_global_co2', 'share_global_coal_co2', 'renewables_share_energy'\n",
    "]\n",
    "features = [c for c in candidates if c in df_year.columns]\n",
    "print('Using features:', features)\n",
    "\n",
    "# Drop na\n",
    "cols = ['country','iso_code'] + features\n",
    "df_feat = df_year[cols].dropna()\n",
    "print('Countries with full feature data:', df_feat.shape[0])\n",
    "X = df_feat[features].values"
   ]
  },
  {
   "cell_type": "code",
   "execution_count": null,
   "id": "5beb157b",
   "metadata": {},
   "outputs": [],
   "source": [
    "# CELL: Preprocess & PCA\n",
    "scaler = StandardScaler()\n",
    "X_scaled = scaler.fit_transform(X)\n",
    "\n",
    "from sklearn.decomposition import PCA\n",
    "pca = PCA(n_components=2, random_state=42)\n",
    "X_pca = pca.fit_transform(X_scaled)\n",
    "print('Explained variance ratio (2 components):', pca.explained_variance_ratio_)"
   ]
  },
  {
   "cell_type": "code",
   "execution_count": null,
   "id": "597a4338",
   "metadata": {},
   "outputs": [],
   "source": [
    "# CELL: Elbow & Silhouette diagnostics\n",
    "inertia = []\n",
    "silhouette = []\n",
    "K = range(2,9)\n",
    "for k in K:\n",
    "    km = KMeans(n_clusters=k, random_state=42, n_init=10)\n",
    "    labels = km.fit_predict(X_scaled)\n",
    "    inertia.append(km.inertia_)\n",
    "    silhouette.append(silhouette_score(X_scaled, labels))\n",
    "\n",
    "plt.figure()\n",
    "plt.subplot(1,2,1)\n",
    "plt.plot(K, inertia, '-o')\n",
    "plt.title('Elbow: Inertia vs k')\n",
    "plt.xlabel('k')\n",
    "plt.ylabel('Inertia')\n",
    "\n",
    "plt.subplot(1,2,2)\n",
    "plt.plot(K, silhouette, '-o')\n",
    "plt.title('Silhouette score vs k')\n",
    "plt.xlabel('k')\n",
    "plt.ylabel('Silhouette')\n",
    "plt.tight_layout()\n"
   ]
  },
  {
   "cell_type": "code",
   "execution_count": null,
   "id": "17362b09",
   "metadata": {},
   "outputs": [],
   "source": [
    "# CELL: Fit final KMeans and visualize clusters\n",
    "k_final = 4\n",
    "km = KMeans(n_clusters=k_final, random_state=42, n_init=50)\n",
    "labels = km.fit_predict(X_scaled)\n",
    "\n",
    "df_feat['cluster'] = labels\n",
    "\n",
    "plt.figure(figsize=(9,6))\n",
    "for cl in sorted(df_feat['cluster'].unique()):\n",
    "    idx = df_feat['cluster'] == cl\n",
    "    plt.scatter(X_pca[idx,0], X_pca[idx,1], label=f'Cluster {cl}', alpha=0.7)\n",
    "\n",
    "plt.xlabel('PCA 1')\n",
    "plt.ylabel('PCA 2')\n",
    "plt.title(f'Country clusters (k={k_final})')\n",
    "plt.legend()\n",
    "plt.show()\n",
    "\n",
    "# Print sample countries\n",
    "sort_col = 'co2_per_capita' if 'co2_per_capita' in df_feat.columns else 'co2'\n",
    "for cl in sorted(df_feat['cluster'].unique()):\n",
    "    print('\\nCluster', cl, 'sample countries:')\n",
    "    print(df_feat[df_feat['cluster']==cl].sort_values(by=sort_col, ascending=False)['country'].head(8).to_list())\n"
   ]
  },
  {
   "cell_type": "code",
   "execution_count": null,
   "id": "fee89218",
   "metadata": {},
   "outputs": [],
   "source": [
    "# CELL: Cluster summary statistics\n",
    "cluster_means = df_feat.groupby('cluster')[features].mean().round(4)\n",
    "cluster_means"
   ]
  },
  {
   "cell_type": "code",
   "execution_count": null,
   "id": "66ed176b",
   "metadata": {},
   "outputs": [],
   "source": [
    "# CELL: Save clustered results\n",
    "out_csv = f'country_clusters_{year}.csv'\n",
    "df_feat.to_csv(out_csv, index=False)\n",
    "print('Saved', out_csv)"
   ]
  },
  {
   "cell_type": "markdown",
   "id": "9ee2b1a3",
   "metadata": {},
   "source": [
    "## Extended: Time-series features & clustering\n",
    "Below is an optional workflow to create time-series derived features (growth rates) and cluster based on trends. This is lightweight and avoids heavy DTW installs."
   ]
  },
  {
   "cell_type": "code",
   "execution_count": null,
   "id": "0c1f09a4",
   "metadata": {},
   "outputs": [],
   "source": [
    "# CELL: Time-series derived features (growth rates)\n",
    "# We'll compute 5-year growth rate of co2_per_capita where available\n",
    "years = [year-5, year]\n",
    "df_ts = df[df['country'].isin(df_feat['country']) & df['year'].between(year-5, year)].copy()\n",
    "\n",
    "# pivot\n",
    "pv = df_ts.pivot(index='country', columns='year', values='co2_per_capita')\n",
    "if (year-5) in pv.columns:\n",
    "    pv['growth_5yr'] = (pv[year] - pv[year-5]) / (pv[year-5].replace(0, np.nan))\n",
    "else:\n",
    "    pv['growth_5yr'] = np.nan\n",
    "\n",
    "pv_feat = pv[['growth_5yr']].dropna()\n",
    "print('Countries with 5yr growth:', pv_feat.shape[0])\n",
    "\n",
    "# Join growth into df_feat\n",
    "df_feat = df_feat.merge(pv_feat[['growth_5yr']], left_on='country', right_index=True, how='left')\n",
    "print('df_feat now has columns:', df_feat.columns.tolist())\n"
   ]
  },
  {
   "cell_type": "markdown",
   "id": "9bdf6d16",
   "metadata": {},
   "source": [
    "## Optional: Map visualization (requires extra packages)\n",
    "The following cell installs geopandas & folium in Colab and produces a choropleth of cluster membership. Run only if you are in Colab and accept the package installs."
   ]
  },
  {
   "cell_type": "code",
   "execution_count": null,
   "id": "a9f0b16d",
   "metadata": {},
   "outputs": [],
   "source": [
    "# CELL: Optional map (Colab users) - installs geopandas & folium\n",
    "# Uncomment and run in Colab if you want maps. This cell may take time to install packages.\n",
    "# !pip install geopandas folium pycountry rtree\n",
    "\n",
    "# Example mapping code (uncomment when packages are installed):\n",
    "# import geopandas as gpd\n",
    "# import folium\n",
    "# world = gpd.read_file(gpd.datasets.get_path('naturalearth_lowres'))\n",
    "# # Some iso code alignment: OWID uses ISO codes; naturalearth uses 'iso_a3'\n",
    "# merged = world.merge(df_feat, left_on='iso_a3', right_on='iso_code', how='left')\n",
    "# m = folium.Map(location=[10,0], zoom_start=2)\n",
    "# folium.Choropleth(\n",
    "#     geo_data=merged.__geo_interface__,\n",
    "#     name='choropleth',\n",
    "#     data=merged,\n",
    "#     columns=['iso_a3', 'cluster'],\n",
    "#     key_on='feature.properties.iso_a3',\n",
    "#     fill_opacity=0.7,\n",
    "#     line_opacity=0.2,\n",
    "#     legend_name='Cluster'\n",
    "# ).add_to(m)\n",
    "# m"
   ]
  },
  {
   "cell_type": "markdown",
   "id": "9a6fe7a0",
   "metadata": {},
   "source": [
    "## Next steps and notes\n",
    "- Validate clusters against GDP per capita, population, and NDC commitments.\n",
    "- Consider time-series clustering (DTW) or dynamic time warping for richer trend grouping.\n",
    "- Use the saved CSV `country_clusters_<year>.csv` for creating maps or dashboards."
   ]
  }
 ],
 "metadata": {},
 "nbformat": 4,
 "nbformat_minor": 5
}
